{
 "cells": [
  {
   "cell_type": "code",
   "execution_count": 1,
   "metadata": {},
   "outputs": [
    {
     "name": "stdout",
     "output_type": "stream",
     "text": [
      "{'number_density': <Quantity 1. 1 / cm3>, 'temperature': <Quantity 1. K>, 'density': <Quantity 0.03526822 solMass / pc3>, 'magnetic_field': <Quantity 0.54768522 uG>, 'pressure': <Quantity 2.38699871e-14 erg / cm3>, 'length': <Quantity 1. pc>, 'mass': <Quantity 0.03526822 solMass>, 'time': <Quantity 0.97779222 Myr>, 'velocity': <Quantity 1. km / s>, 'muH': <Quantity 2.38699871e-24 g>, 'gravitational_potential': <Quantity 1. km2 / s2>}\n"
     ]
    }
   ],
   "source": [
    "import matplotlib.pyplot as plt\n",
    "import os\n",
    "from shutil import copyfile\n",
    "import numpy as np\n",
    "import pandas as pd\n",
    "import astropy.constants as c\n",
    "import astropy.units as u\n",
    "import sys\n",
    "import pyathena as pa\n",
    "from scipy.interpolate import interp1d\n",
    "from matplotlib.ticker import MultipleLocator\n",
    "import copy\n",
    "from mpl_toolkits import axes_grid1\n",
    "\n",
    "\n",
    "from matplotlib.colors import LogNorm\n",
    "from six.moves import cPickle as pickle\n",
    "\n",
    "# In[7]:\n",
    "import matplotlib as mpl\n",
    "\n",
    "\n",
    "# In[8]:\n",
    "\n",
    "unit = pa.set_units(muH=1.4271)\n",
    "print(unit)\n",
    "#print (unit['density'].cgs / 1.4271 / c.m_p.cgs, unit['velocity'], unit['length'])\n",
    "#print unit['density']\n",
    "kb = 1.38064852 * 1e-16 #boltzmann constant erg/K / erg = g cm2/s2\n",
    "vpc = 7168.*1024*1024/(128*128*896) # volume per cell\n",
    "\n",
    "z = np.arange(-3588, 3588, 8)\n",
    "g = 4.5181 * 1e-30  # gravitational constant : pc3/solmass*s2\n",
    "sig_star = 42  # solmass/pc2\n",
    "z_s = 245  # pc\n",
    "r_0 = 8000  # pc\n",
    "rho_dm = 0.0064  # solmass/pc3\n",
    "km = 3.24078 * 1e-14  # 1km in parsec\n",
    "cm = 3.24078 * 1e-19  # 1cm in parsec\n",
    "gram = 5.02785 * 1e-34  # 1g in solar mass\n",
    "#z = np.arange(-3588, 3588, 8)\n",
    "#gext = (2. * np.pi * g * sig_star * (z ) / ((z ) ** 2 + z_s ** 2) ** (0.5) + 4. * np.pi * g * rho_dm * ((z ) / (1 + (z ) ** 2 / r_0 ** 2)))  # pc/s2\n",
    "#gext = gext/km/km # km/s2\n",
    "\n",
    "\n",
    "#plt.plot((z-3584.)/1000,g_z)\n",
    "#plt.show()\n",
    "#meter = 3.24078*1e-17 # pc\n",
    "#kg = 5.02785*1e-31 # solar mass\n",
    "\n",
    "simid_t = ('RPS_8pc_noICM_newacc','RPS_8pc_ICM0_newacc','RPS_8pc_ICM1_newacc','RPS_4pc_ICM1_newacc','RPS_8pc_ICM2_newacc','RPS_4pc_ICM2_newacc','RPS_8pc_ICM3_newacc')\n",
    "#labell = ('No ICM','Very Weak' ,'Weak', 'Strong', 'Very Strong','ICM1', 'ICM2', 'ICM3', 'ICM4') #'NonICM',\n",
    "labell = ('No ICM','P1', 'P3','P3h', 'P7','P7h','P14' ,'ICM1', 'ICM2', 'ICM3', 'ICM4')  # r'No ICM',\n",
    "Model = [0,8.63*1e3,3.46*1e4,3.46*1e4,6.92*1e4,6.92*1e4,1.38*1e5]\n",
    "Modell = [r'8.63*1e3',r'$3.46x10^4$',r'$6.92x10^4$',r'1.38*1e5']\n",
    "S = ('-.','--','-')\n",
    "C = ('k', 'salmon', 'mediumblue','deepskyblue' ,'darkgreen','lime', 'magenta','darkmagenta','goldenrod','royalblue','crimson') # 'plum','orchid','purple'\n",
    "# overplot Starformation rate of three different simulations\n",
    "\n",
    "Myr = unit['time'].to('Myr').value\n",
    "Msun = unit['mass'].to('Msun').value\n",
    "agebin = 10\n",
    "crit = 3\n",
    "coolftn = pa.coolftn()\n",
    "s_cut = 0.5"
   ]
  },
  {
   "cell_type": "code",
   "execution_count": null,
   "metadata": {},
   "outputs": [],
   "source": []
  }
 ],
 "metadata": {
  "kernelspec": {
   "display_name": "Python 2",
   "language": "python",
   "name": "python2"
  },
  "language_info": {
   "codemirror_mode": {
    "name": "ipython",
    "version": 2
   },
   "file_extension": ".py",
   "mimetype": "text/x-python",
   "name": "python",
   "nbconvert_exporter": "python",
   "pygments_lexer": "ipython2",
   "version": "2.7.14"
  }
 },
 "nbformat": 4,
 "nbformat_minor": 2
}
