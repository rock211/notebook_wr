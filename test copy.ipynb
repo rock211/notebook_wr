{
 "cells": [
  {
   "cell_type": "code",
   "execution_count": 2,
   "metadata": {},
   "outputs": [],
   "source": [
    "import numpy as np\n",
    "\n",
    "cuw = np.genfromtxt('./flux/Mom_cuw_P3h.txt')\n",
    "ion = np.genfromtxt('./flux/Mom_i_P3h.txt')\n",
    "hot = np.genfromtxt('./flux/Mom_h_P3h.txt')\n",
    "\n",
    "cuw = cuw*1204/1024.\n",
    "ion = ion*1204/1024.\n",
    "hot = hot*1204/1024.\n",
    "\n",
    "np.savetxt('Mom_cuw_P3h.txt',cuw)\n",
    "np.savetxt('Mom_i_P3h.txt', ion)\n",
    "np.savetxt('Mom_h_P3h.txt', hot)\n"
   ]
  },
  {
   "cell_type": "code",
   "execution_count": null,
   "metadata": {},
   "outputs": [],
   "source": []
  }
 ],
 "metadata": {
  "kernelspec": {
   "display_name": "Python 2",
   "language": "python",
   "name": "python2"
  },
  "language_info": {
   "codemirror_mode": {
    "name": "ipython",
    "version": 2
   },
   "file_extension": ".py",
   "mimetype": "text/x-python",
   "name": "python",
   "nbconvert_exporter": "python",
   "pygments_lexer": "ipython2",
   "version": "2.7.14"
  }
 },
 "nbformat": 4,
 "nbformat_minor": 2
}
