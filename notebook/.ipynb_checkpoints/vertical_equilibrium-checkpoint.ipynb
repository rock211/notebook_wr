{
 "cells": [
  {
   "cell_type": "code",
   "execution_count": 1,
   "metadata": {},
   "outputs": [
    {
     "name": "stdout",
     "output_type": "stream",
     "text": [
      "### setting up for tigressdata2.princeton.edu system\n",
      "### base directory path is /tigress/changgoo/\n",
      "\n",
      "Welcome to IPython!\n",
      "\n"
     ]
    }
   ],
   "source": [
    "from startups.startup import *"
   ]
  },
  {
   "cell_type": "code",
   "execution_count": 6,
   "metadata": {},
   "outputs": [],
   "source": [
    "import xarray as xr\n",
    "import sys\n",
    "sys.path.insert(0, 'C:/Users/woorak choi/Desktop/rps-tigress/notebook')\n",
    "import pyathena.preprocessing as pre\n",
    "import numpy as np\n",
    "import matplotlib.pyplot as plt"
   ]
  },
  {
   "cell_type": "code",
   "execution_count": 7,
   "metadata": {},
   "outputs": [
    {
     "name": "stdout",
     "output_type": "stream",
     "text": [
      "G:/yeongu/RPS_8pc_noICM_newacc/zprof_merged/RPS_8pc_noICM_newacc.phase1.zprof.nc is created\n",
      "G:/yeongu/RPS_8pc_noICM_newacc/zprof_merged/RPS_8pc_noICM_newacc.phase2.zprof.nc is created\n",
      "G:/yeongu/RPS_8pc_noICM_newacc/zprof_merged/RPS_8pc_noICM_newacc.phase3.zprof.nc is created\n",
      "G:/yeongu/RPS_8pc_noICM_newacc/zprof_merged/RPS_8pc_noICM_newacc.phase4.zprof.nc is created\n",
      "G:/yeongu/RPS_8pc_noICM_newacc/zprof_merged/RPS_8pc_noICM_newacc.phase5.zprof.nc is created\n"
     ]
    }
   ],
   "source": [
    "base = 'G:/yeongu/'\n",
    "pid='RPS_8pc_noICM_newacc'\n",
    "\n",
    "pre.zprof_to_xarray(base,pid,pid)\n",
    "zpdset=pre.merge_xarray(base,pid,pid)\n",
    "data=zpdset.to_array(dim='phase').to_dataset(dim='fields')\n",
    "\n",
    "#dset.to_netcdf(base+pid+'/zprof_merged/'+pid+'.merged.nc')"
   ]
  },
  {
   "cell_type": "code",
   "execution_count": 8,
   "metadata": {},
   "outputs": [
    {
     "name": "stdout",
     "output_type": "stream",
     "text": [
      "(2.3869987106358e-24, 2.3869987106358e-14, 3.085677581467192e+18, 8, 1.38064852e-16)\n"
     ]
    }
   ],
   "source": [
    "import astropy.constants as c\n",
    "import astropy.units as u\n",
    "G = c.G.cgs.value\n",
    "Msun = c.M_sun.cgs.value\n",
    "pc = c.pc.cgs.value\n",
    "pi = np.pi\n",
    "m_unit = 1.4271*c.m_p.cgs.value*pc**3\n",
    "l_unit = pc\n",
    "v_unit = 1.e5\n",
    "t_unit = l_unit/v_unit\n",
    "G_code = (G/l_unit**3)*m_unit*t_unit**2\n",
    "rho_unit = m_unit/l_unit**3\n",
    "\n",
    "p_unit = rho_unit*v_unit**2\n",
    "deltaz = data.zaxis.data[1]-data.zaxis.data[0]\n",
    "kb = c.k_B.cgs.value\n",
    "print(rho_unit, p_unit, pc, deltaz, kb)"
   ]
  },
  {
   "cell_type": "code",
   "execution_count": 9,
   "metadata": {},
   "outputs": [],
   "source": [
    "phase=['warm','intermediate','hot','total']\n",
    "color = ['C2','C1','C3','C0']\n",
    "Plabel =[r'$\\langle P_{th}\\rangle$',r'$\\langle P_{\\rm turb,z}\\rangle$',r'$\\langle \\Pi_{\\rm mag}\\rangle$'] \n",
    "linestyle = ['-','--',':','-.']"
   ]
  },
  {
   "cell_type": "code",
   "execution_count": 10,
   "metadata": {},
   "outputs": [],
   "source": [
    "from matplotlib.ticker import MultipleLocator\n",
    "\n",
    "def get_flux_weight(data_,t1,t2,area):\n",
    "    zaxis=data_.zaxis\n",
    "    zmax=zaxis.max().data\n",
    "    hNz=int(len(zaxis)/2)\n",
    "\n",
    "    # set pressures within the time range\n",
    "    Pth=data_.sel(fields='P',taxis=slice(t1,t2))\n",
    "    Pturb=2.0*data_.sel(fields='Ek3',taxis=slice(t1,t2))\n",
    "    Pmag=data_.sel(fields=['PB1','PB2','PB3']).sum(dim='fields')-data_.sel(fields=['PB3']).sum(dim='fields')*2.0\n",
    "    Pmag=Pmag.sel(taxis=slice(t1,t2))\n",
    "    \n",
    "    # time average of total momentum flux\n",
    "    totFlux=((Pth+Pturb+Pmag)*p_unit/area).mean(dim='taxis')\n",
    "    \n",
    "    # split upper and lower planes to apply different reference values \n",
    "    totFlux_u = totFlux.sel(zaxis=slice(0,zmax))\n",
    "    totFlux_u-= totFlux.sel(zaxis=zmax,method='nearest')\n",
    "    totFlux_l = totFlux.sel(zaxis=slice(-zmax,0))\n",
    "    totFlux_l-= totFlux.sel(zaxis=-zmax,method='nearest')\n",
    "    \n",
    "    # concatenate back to a single array\n",
    "    totFlux=xr.concat([totFlux_l,totFlux_u],dim='zaxis')\n",
    "    \n",
    "    # split upper and lower plances to apply different integration range\n",
    "    # note that dWext and dWsg fields are rho*g_{z,ext/sg}\n",
    "    # upper: zmax to z -- need to reverse the array\n",
    "    # lower: zmin to z\n",
    "    dWext_u=data_.sel(fields='dWext',taxis=slice(t1,t2)).mean(dim='taxis').sel(zaxis=slice(0,1.e4))\n",
    "    dWext_u=dWext_u.reindex(zaxis=dWext_u.zaxis[::-1])\n",
    "    dWext_l=-data_.sel(fields='dWext',taxis=slice(t1,t2)).mean(dim='taxis').sel(zaxis=slice(-1.e4,0))\n",
    "    Wext_l=dWext_l.cumsum(dim='zaxis')\n",
    "    Wext_u=dWext_u.cumsum(dim='zaxis')\n",
    "    Wext_u=Wext_u.reindex(zaxis=Wext_u.zaxis[::-1])\n",
    "    \n",
    "    # multiply dz for integration\n",
    "    Wext=xr.concat([Wext_l,Wext_u],dim='zaxis')*deltaz*p_unit/area\n",
    "    \n",
    "    # same calculation for the self gravity term\n",
    "    dWsg_u=data_.sel(fields='dWsg',taxis=slice(t1,t2)).mean(dim='taxis').sel(zaxis=slice(0,1.e4))\n",
    "    dWsg_u=dWsg_u.reindex(zaxis=dWsg_u.zaxis[::-1])\n",
    "    dWsg_l=-data_.sel(fields='dWsg',taxis=slice(t1,t2)).mean(dim='taxis').sel(zaxis=slice(-1.e4,0))\n",
    "    Wsg_l=dWsg_l.cumsum(dim='zaxis')\n",
    "    Wsg_u=dWsg_u.cumsum(dim='zaxis')\n",
    "    Wsg_u=Wsg_u.reindex(zaxis=Wsg_u.zaxis[::-1])\n",
    "    Wsg=xr.concat([Wsg_l,Wsg_u],dim='zaxis')*deltaz*p_unit/area\n",
    "    Weight=Wext+Wsg\n",
    "    \n",
    "    return totFlux,Weight,Wext,Wsg"
   ]
  },
  {
   "cell_type": "code",
   "execution_count": 11,
   "metadata": {},
   "outputs": [],
   "source": [
    "t1=data.taxis.min()\n",
    "t2=data.taxis.max()"
   ]
  },
  {
   "cell_type": "code",
   "execution_count": null,
   "metadata": {},
   "outputs": [],
   "source": [
    "with plt.style.context('seaborn-poster'):\n",
    "\n",
    "    # setup figures\n",
    "\n",
    "    f, ax = plt.subplots(1,3, figsize=(15,5))\n",
    "    ax=ax.flatten()\n",
    "    axi = []\n",
    "    for j in range(3): axi = np.append(axi, ax[j].twinx())    \n",
    "\n",
    "    # comparison between weight and momentum flux (pressure)\n",
    "\n",
    "    ax_= ax[0]\n",
    "    data_ = data.sum(dim='phase').to_array(dim='fields')\n",
    "    totarea=float(data_.sel(fields='A')[0,0])\n",
    "    F,W,We,Ws = get_flux_weight(data_,t1,t2,area=totarea)\n",
    "\n",
    "    ax_.plot(data_.zaxis/1.e3,W,ls='-',color='C7',lw=5,label=r'$\\mathcal{W}$')\n",
    "    ax_.plot(data_.zaxis/1.e3,We,ls=':',color='C7',label=r'$\\mathcal{W}_{\\rm ext}$')\n",
    "    ax_.plot(data_.zaxis/1.e3,Ws,ls='-.',color='C7',label=r'$\\mathcal{W}_{\\rm sg}$')\n",
    "    ax_.plot(data_.zaxis/1.e3,F,ls='-',color='k',lw=1,label=r'$\\Delta \\mathcal{F}_p$')\n",
    "\n",
    "    # momentum fluxes for each phase\n",
    "    ax_= ax[1]\n",
    "    for i in [0,1,2]:\n",
    "        data_ = data.isel(phase=i+2).to_array(dim='fields')\n",
    "        F,W,We,Ws = get_flux_weight(data_,t1,t2,area=totarea)\n",
    "        ax_.plot(data_.zaxis/1.e3,F,ls='-',color=color[i])\n",
    "\n",
    "    # weights for each phase    \n",
    "    ax_= ax[2]\n",
    "    for i in [0,1,2]:\n",
    "        data_ = data.isel(phase=i+2).to_array(dim='fields')\n",
    "        F,W,We,Ws = get_flux_weight(data_,t1,t2,area=totarea)\n",
    "        ax_.plot(data_.zaxis/1.e3,W,ls='-',color=color[i],label=phase[i])\n",
    "\n",
    "    # cosmetics\n",
    "    plt.setp([ax,axi],'yscale','log')\n",
    "    plt.setp(ax,'xticks',np.arange(-3.,3.5,1.))\n",
    "    plt.setp(ax,'ylim',(1.e-15,1.e-11))\n",
    "    plt.setp(axi,'ylim',(1.e-15/kb, 1.e-11/kb))\n",
    "    plt.setp(ax,'xlim',(-3.584,3.584))\n",
    "    plt.setp(ax,'xlabel',r'$z\\;[{\\rm kpc}]$')\n",
    "\n",
    "    plt.setp([ax_.get_yticklabels() for ax_ in ax[1:]],visible=False)\n",
    "    plt.setp([ax_.get_yticklabels() for ax_ in axi[:-1]],visible=False)\n",
    "\n",
    "    ax[0].set_ylabel(r'$P\\;[{\\rm g\\,cm^{-1}\\,s^{-2}}]$')\n",
    "    axi[2].set_ylabel(r'$P/k_B\\;[{\\rm cm^{-3}\\,K}]$')\n",
    "    ax[0].legend(loc='lower right')\n",
    "    ax[2].legend(loc='lower right')\n",
    "\n",
    "    for ax_,plabel in zip(ax,[r'(a) total',r'(b) $\\Delta \\mathcal{F}_p$',r'(c) $\\mathcal{W}$']):\n",
    "        ax_.text(0.05,0.9,plabel,transform=ax_.transAxes,fontsize=18)\n",
    "    plt.tight_layout()\n",
    "    \n",
    "    #plt.savefig(\"./vertical_equilibrium.pdf\",bbox_inches='tight',dpi=150)\n",
    "    #plt.gcf()"
   ]
  },
  {
   "cell_type": "code",
   "execution_count": null,
   "metadata": {},
   "outputs": [],
   "source": []
  }
 ],
 "metadata": {
  "kernelspec": {
   "display_name": "Python 2",
   "language": "python",
   "name": "python2"
  },
  "language_info": {
   "codemirror_mode": {
    "name": "ipython",
    "version": 2
   },
   "file_extension": ".py",
   "mimetype": "text/x-python",
   "name": "python",
   "nbconvert_exporter": "python",
   "pygments_lexer": "ipython2",
   "version": "2.7.14"
  }
 },
 "nbformat": 4,
 "nbformat_minor": 2
}
