{
 "cells": [
  {
   "cell_type": "code",
   "execution_count": 1,
   "metadata": {
    "collapsed": true
   },
   "outputs": [],
   "source": [
    "import matplotlib.pyplot as plt\n",
    "import os\n",
    "from shutil import copyfile\n",
    "import numpy as np\n",
    "import pandas as pd\n",
    "import astropy.constants as c\n",
    "import astropy.units as u\n",
    "import sys\n",
    "import pyathena as pa\n",
    "from mpl_toolkits import axes_grid1\n",
    "from matplotlib.colors import LogNorm\n",
    "from six.moves import cPickle as pickle\n",
    "import matplotlib as mpl\n"
   ]
  },
  {
   "cell_type": "code",
   "execution_count": 4,
   "metadata": {},
   "outputs": [
    {
     "name": "stdout",
     "output_type": "stream",
     "text": [
      "{'number_density': <Quantity 1.0 1 / cm3>, 'temperature': <Quantity 1.0 K>, 'density': <Quantity 0.035268224298483024 solMass / pc3>, 'magnetic_field': <Quantity 0.5476852239548456 uG>, 'pressure': <Quantity 2.3869987106358004e-14 erg / cm3>, 'length': <Quantity 1.0 pc>, 'mass': <Quantity 0.03526822429848302 solMass>, 'time': <Quantity 0.9777922216731284 Myr>, 'velocity': <Quantity 1.0 km / s>, 'muH': <Quantity 2.3869987106358e-24 g>, 'gravitational_potential': <Quantity 1.0 km2 / s2>}\n"
     ]
    }
   ],
   "source": [
    "basedir = 'D:/yeongu/'\n",
    "simid = 'MHD_8pc_new' # 'MHD_8pc_new' , 'RPS_8pc_n1e-4_v1414' , 'RPS_8pc_n2e-4_v1414'\n",
    "\n",
    "unit = pa.set_units(muH=1.4271)\n",
    "print(unit)\n",
    "kb = 1.3806504 * 1e-16 #boltzmann constant erg/K\n",
    "vpc = 7168.*1024*1024/(128*128*896) # volume per cell\n",
    "\n",
    "stop = 501\n",
    "\n",
    "simid_t = ( 'RPS_8pc_n1e-4_v1414' , 'RPS_8pc_n2e-4_v1414') # 'MHD_8pc_new'\n",
    "labell = ('NonICM','n1','n2')\n",
    "C = ('dimgrey','coral','royalblue')\n",
    "S = ('-.','--','-')\n"
   ]
  },
  {
   "cell_type": "code",
   "execution_count": 5,
   "metadata": {},
   "outputs": [
    {
     "name": "stdout",
     "output_type": "stream",
     "text": [
      "['density', 'magnetic_field', 'specific_scalar0', 'pressure', 'velocity', 'gravitational_potential']\n",
      "['velocity1', 'velocity2', 'velocity3', 'velocity_magnitude', 'kinetic_energy1', 'kinetic_energy2', 'kinetic_energy3', 'momentum1', 'momentum2', 'momentum3', 'reynold_stress', 'reynold_stress1', 'reynold_stress2', 'reynold_stress3', 'sound_speed', 'temperature', 'T1', 'potential_energy', 'gravity_stress', 'gravity_stress1', 'gravity_stress2', 'gravity_stress3', 'number_density', 'scalar0', 'magnetic_field1', 'magnetic_field2', 'magnetic_field3', 'magnetic_energy1', 'magnetic_energy2', 'magnetic_energy3', 'magnetic_pressure', 'plasma_beta', 'alfven_velocity1', 'alfven_velocity2', 'alfven_velocity3', 'magnetic_stress', 'magnetic_stress1', 'magnetic_stress2', 'magnetic_stress3']\n",
      "{'ndim': 3, 'nscal': 1, 'center': array([ 0.,  0.,  0.], dtype=float32), 'right_edge': array([  512.,   512.,  3584.], dtype=float32), 'Nx': array([128, 128, 896]), 'field_map': {'density': {'nvar': 1, 'offset': 254L, 'dsize': 4194304, 'read_table': True, 'dtype': 'f', 'ndata': 1048576}, 'magnetic_field': {'nvar': 3, 'offset': 20971887L, 'dsize': 12582912, 'read_table': False, 'dtype': 'f', 'ndata': 3145728}, 'specific_scalar0': {'nvar': 1, 'offset': 37749194L, 'dsize': 4194304, 'read_table': True, 'dtype': 'f', 'ndata': 1048576}, 'pressure': {'nvar': 1, 'offset': 16777538L, 'dsize': 4194304, 'read_table': True, 'dtype': 'f', 'ndata': 1048576}, 'velocity': {'nvar': 3, 'offset': 4194602L, 'dsize': 12582912, 'read_table': False, 'dtype': 'f', 'ndata': 3145728}, 'gravitational_potential': {'nvar': 1, 'offset': 33554830L, 'dsize': 4194304, 'read_table': True, 'dtype': 'f', 'ndata': 1048576}}, 'dx': array([ 8.,  8.,  8.], dtype=float32), 'time': 251.0005, 'left_edge': array([ -512.,  -512., -3584.], dtype=float32), 'Lx': array([ 1024.,  1024.,  7168.], dtype=float32)}\n",
      "1.0 km2 / s2\n",
      "['density', 'magnetic_field', 'specific_scalar0', 'pressure', 'velocity', 'gravitational_potential']\n",
      "['velocity1', 'velocity2', 'velocity3', 'velocity_magnitude', 'kinetic_energy1', 'kinetic_energy2', 'kinetic_energy3', 'momentum1', 'momentum2', 'momentum3', 'reynold_stress', 'reynold_stress1', 'reynold_stress2', 'reynold_stress3', 'sound_speed', 'temperature', 'T1', 'potential_energy', 'gravity_stress', 'gravity_stress1', 'gravity_stress2', 'gravity_stress3', 'number_density', 'scalar0', 'magnetic_field1', 'magnetic_field2', 'magnetic_field3', 'magnetic_energy1', 'magnetic_energy2', 'magnetic_energy3', 'magnetic_pressure', 'plasma_beta', 'alfven_velocity1', 'alfven_velocity2', 'alfven_velocity3', 'magnetic_stress', 'magnetic_stress1', 'magnetic_stress2', 'magnetic_stress3']\n",
      "{'ndim': 3, 'nscal': 1, 'center': array([ 0.,  0.,  0.], dtype=float32), 'right_edge': array([  512.,   512.,  3584.], dtype=float32), 'Nx': array([128, 128, 896]), 'field_map': {'density': {'nvar': 1, 'offset': 254L, 'dsize': 4194304, 'read_table': True, 'dtype': 'f', 'ndata': 1048576}, 'magnetic_field': {'nvar': 3, 'offset': 20971887L, 'dsize': 12582912, 'read_table': False, 'dtype': 'f', 'ndata': 3145728}, 'specific_scalar0': {'nvar': 1, 'offset': 37749194L, 'dsize': 4194304, 'read_table': True, 'dtype': 'f', 'ndata': 1048576}, 'pressure': {'nvar': 1, 'offset': 16777538L, 'dsize': 4194304, 'read_table': True, 'dtype': 'f', 'ndata': 1048576}, 'velocity': {'nvar': 3, 'offset': 4194602L, 'dsize': 12582912, 'read_table': False, 'dtype': 'f', 'ndata': 3145728}, 'gravitational_potential': {'nvar': 1, 'offset': 33554830L, 'dsize': 4194304, 'read_table': True, 'dtype': 'f', 'ndata': 1048576}}, 'dx': array([ 8.,  8.,  8.], dtype=float32), 'time': 252.0008, 'left_edge': array([ -512.,  -512., -3584.], dtype=float32), 'Lx': array([ 1024.,  1024.,  7168.], dtype=float32)}\n",
      "1.0 km2 / s2\n",
      "['density', 'magnetic_field', 'specific_scalar0', 'pressure', 'velocity', 'gravitational_potential']\n",
      "['velocity1', 'velocity2', 'velocity3', 'velocity_magnitude', 'kinetic_energy1', 'kinetic_energy2', 'kinetic_energy3', 'momentum1', 'momentum2', 'momentum3', 'reynold_stress', 'reynold_stress1', 'reynold_stress2', 'reynold_stress3', 'sound_speed', 'temperature', 'T1', 'potential_energy', 'gravity_stress', 'gravity_stress1', 'gravity_stress2', 'gravity_stress3', 'number_density', 'scalar0', 'magnetic_field1', 'magnetic_field2', 'magnetic_field3', 'magnetic_energy1', 'magnetic_energy2', 'magnetic_energy3', 'magnetic_pressure', 'plasma_beta', 'alfven_velocity1', 'alfven_velocity2', 'alfven_velocity3', 'magnetic_stress', 'magnetic_stress1', 'magnetic_stress2', 'magnetic_stress3']\n",
      "{'ndim': 3, 'nscal': 1, 'center': array([ 0.,  0.,  0.], dtype=float32), 'right_edge': array([  512.,   512.,  3584.], dtype=float32), 'Nx': array([128, 128, 896]), 'field_map': {'density': {'nvar': 1, 'offset': 254L, 'dsize': 4194304, 'read_table': True, 'dtype': 'f', 'ndata': 1048576}, 'magnetic_field': {'nvar': 3, 'offset': 20971887L, 'dsize': 12582912, 'read_table': False, 'dtype': 'f', 'ndata': 3145728}, 'specific_scalar0': {'nvar': 1, 'offset': 37749194L, 'dsize': 4194304, 'read_table': True, 'dtype': 'f', 'ndata': 1048576}, 'pressure': {'nvar': 1, 'offset': 16777538L, 'dsize': 4194304, 'read_table': True, 'dtype': 'f', 'ndata': 1048576}, 'velocity': {'nvar': 3, 'offset': 4194602L, 'dsize': 12582912, 'read_table': False, 'dtype': 'f', 'ndata': 3145728}, 'gravitational_potential': {'nvar': 1, 'offset': 33554830L, 'dsize': 4194304, 'read_table': True, 'dtype': 'f', 'ndata': 1048576}}, 'dx': array([ 8.,  8.,  8.], dtype=float32), 'time': 253.0003, 'left_edge': array([ -512.,  -512., -3584.], dtype=float32), 'Lx': array([ 1024.,  1024.,  7168.], dtype=float32)}\n",
      "1.0 km2 / s2\n",
      "['density', 'magnetic_field', 'specific_scalar0', 'pressure', 'velocity', 'gravitational_potential']\n",
      "['velocity1', 'velocity2', 'velocity3', 'velocity_magnitude', 'kinetic_energy1', 'kinetic_energy2', 'kinetic_energy3', 'momentum1', 'momentum2', 'momentum3', 'reynold_stress', 'reynold_stress1', 'reynold_stress2', 'reynold_stress3', 'sound_speed', 'temperature', 'T1', 'potential_energy', 'gravity_stress', 'gravity_stress1', 'gravity_stress2', 'gravity_stress3', 'number_density', 'scalar0', 'magnetic_field1', 'magnetic_field2', 'magnetic_field3', 'magnetic_energy1', 'magnetic_energy2', 'magnetic_energy3', 'magnetic_pressure', 'plasma_beta', 'alfven_velocity1', 'alfven_velocity2', 'alfven_velocity3', 'magnetic_stress', 'magnetic_stress1', 'magnetic_stress2', 'magnetic_stress3']\n",
      "{'ndim': 3, 'nscal': 1, 'center': array([ 0.,  0.,  0.], dtype=float32), 'right_edge': array([  512.,   512.,  3584.], dtype=float32), 'Nx': array([128, 128, 896]), 'field_map': {'density': {'nvar': 1, 'offset': 254L, 'dsize': 4194304, 'read_table': True, 'dtype': 'f', 'ndata': 1048576}, 'magnetic_field': {'nvar': 3, 'offset': 20971887L, 'dsize': 12582912, 'read_table': False, 'dtype': 'f', 'ndata': 3145728}, 'specific_scalar0': {'nvar': 1, 'offset': 37749194L, 'dsize': 4194304, 'read_table': True, 'dtype': 'f', 'ndata': 1048576}, 'pressure': {'nvar': 1, 'offset': 16777538L, 'dsize': 4194304, 'read_table': True, 'dtype': 'f', 'ndata': 1048576}, 'velocity': {'nvar': 3, 'offset': 4194602L, 'dsize': 12582912, 'read_table': False, 'dtype': 'f', 'ndata': 3145728}, 'gravitational_potential': {'nvar': 1, 'offset': 33554830L, 'dsize': 4194304, 'read_table': True, 'dtype': 'f', 'ndata': 1048576}}, 'dx': array([ 8.,  8.,  8.], dtype=float32), 'time': 254.0001, 'left_edge': array([ -512.,  -512., -3584.], dtype=float32), 'Lx': array([ 1024.,  1024.,  7168.], dtype=float32)}\n",
      "1.0 km2 / s2\n",
      "['density', 'magnetic_field', 'specific_scalar0', 'pressure', 'velocity', 'gravitational_potential']\n",
      "['velocity1', 'velocity2', 'velocity3', 'velocity_magnitude', 'kinetic_energy1', 'kinetic_energy2', 'kinetic_energy3', 'momentum1', 'momentum2', 'momentum3', 'reynold_stress', 'reynold_stress1', 'reynold_stress2', 'reynold_stress3', 'sound_speed', 'temperature', 'T1', 'potential_energy', 'gravity_stress', 'gravity_stress1', 'gravity_stress2', 'gravity_stress3', 'number_density', 'scalar0', 'magnetic_field1', 'magnetic_field2', 'magnetic_field3', 'magnetic_energy1', 'magnetic_energy2', 'magnetic_energy3', 'magnetic_pressure', 'plasma_beta', 'alfven_velocity1', 'alfven_velocity2', 'alfven_velocity3', 'magnetic_stress', 'magnetic_stress1', 'magnetic_stress2', 'magnetic_stress3']\n",
      "{'ndim': 3, 'nscal': 1, 'center': array([ 0.,  0.,  0.], dtype=float32), 'right_edge': array([  512.,   512.,  3584.], dtype=float32), 'Nx': array([128, 128, 896]), 'field_map': {'density': {'nvar': 1, 'offset': 254L, 'dsize': 4194304, 'read_table': True, 'dtype': 'f', 'ndata': 1048576}, 'magnetic_field': {'nvar': 3, 'offset': 20971887L, 'dsize': 12582912, 'read_table': False, 'dtype': 'f', 'ndata': 3145728}, 'specific_scalar0': {'nvar': 1, 'offset': 37749194L, 'dsize': 4194304, 'read_table': True, 'dtype': 'f', 'ndata': 1048576}, 'pressure': {'nvar': 1, 'offset': 16777538L, 'dsize': 4194304, 'read_table': True, 'dtype': 'f', 'ndata': 1048576}, 'velocity': {'nvar': 3, 'offset': 4194602L, 'dsize': 12582912, 'read_table': False, 'dtype': 'f', 'ndata': 3145728}, 'gravitational_potential': {'nvar': 1, 'offset': 33554830L, 'dsize': 4194304, 'read_table': True, 'dtype': 'f', 'ndata': 1048576}}, 'dx': array([ 8.,  8.,  8.], dtype=float32), 'time': 255.0001, 'left_edge': array([ -512.,  -512., -3584.], dtype=float32), 'Lx': array([ 1024.,  1024.,  7168.], dtype=float32)}\n"
     ]
    },
    {
     "name": "stdout",
     "output_type": "stream",
     "text": [
      "1.0 km2 / s2\n"
     ]
    },
    {
     "ename": "KeyboardInterrupt",
     "evalue": "",
     "output_type": "error",
     "traceback": [
      "\u001b[1;31m---------------------------------------------------------------------------\u001b[0m",
      "\u001b[1;31mKeyboardInterrupt\u001b[0m                         Traceback (most recent call last)",
      "\u001b[1;32m<ipython-input-5-423b7ed639ca>\u001b[0m in \u001b[0;36m<module>\u001b[1;34m()\u001b[0m\n\u001b[0;32m     34\u001b[0m         \u001b[0mmass\u001b[0m \u001b[1;33m=\u001b[0m \u001b[0md\u001b[0m \u001b[1;31m# density times volume per cell = mass per cell\u001b[0m\u001b[1;33m\u001b[0m\u001b[0m\n\u001b[0;32m     35\u001b[0m         \u001b[1;31m#pre = ds.read_all_data('pressure')*unit['pressure'].value/kb # thermal pressure\u001b[0m\u001b[1;33m\u001b[0m\u001b[1;33m\u001b[0m\u001b[0m\n\u001b[1;32m---> 36\u001b[1;33m         \u001b[0mvel\u001b[0m \u001b[1;33m=\u001b[0m \u001b[0mds\u001b[0m\u001b[1;33m.\u001b[0m\u001b[0mread_all_data\u001b[0m\u001b[1;33m(\u001b[0m\u001b[1;34m'velocity'\u001b[0m\u001b[1;33m)\u001b[0m\u001b[1;33m\u001b[0m\u001b[0m\n\u001b[0m\u001b[0;32m     37\u001b[0m         \u001b[0mvel_z\u001b[0m \u001b[1;33m=\u001b[0m \u001b[0mvel\u001b[0m\u001b[1;33m[\u001b[0m\u001b[1;33m:\u001b[0m\u001b[1;33m,\u001b[0m\u001b[1;33m:\u001b[0m\u001b[1;33m,\u001b[0m\u001b[1;33m:\u001b[0m\u001b[1;33m,\u001b[0m\u001b[1;36m2\u001b[0m\u001b[1;33m]\u001b[0m\u001b[1;33m\u001b[0m\u001b[0m\n\u001b[0;32m     38\u001b[0m         \u001b[1;31m#v_z_p = vel_z[vel_z > 0]\u001b[0m\u001b[1;33m\u001b[0m\u001b[1;33m\u001b[0m\u001b[0m\n",
      "\u001b[1;32mC:\\Users\\woorak choi\\Desktop\\rps-tigress\\notebook\\pyathena\\vtk_reader.pyc\u001b[0m in \u001b[0;36mread_all_data\u001b[1;34m(self, field, slab, verbose)\u001b[0m\n\u001b[0;32m    636\u001b[0m                         \u001b[0mgnx\u001b[0m\u001b[1;33m=\u001b[0m\u001b[0mnp\u001b[0m\u001b[1;33m.\u001b[0m\u001b[0mcopy\u001b[0m\u001b[1;33m(\u001b[0m\u001b[0mg\u001b[0m\u001b[1;33m[\u001b[0m\u001b[1;34m'Nx'\u001b[0m\u001b[1;33m]\u001b[0m\u001b[1;33m)\u001b[0m\u001b[1;33m\u001b[0m\u001b[0m\n\u001b[0;32m    637\u001b[0m                         \u001b[0mgie\u001b[0m\u001b[1;33m=\u001b[0m\u001b[0mgis\u001b[0m\u001b[1;33m+\u001b[0m\u001b[0mgnx\u001b[0m\u001b[1;33m\u001b[0m\u001b[0m\n\u001b[1;32m--> 638\u001b[1;33m                         \u001b[0mgd\u001b[0m\u001b[1;33m=\u001b[0m\u001b[0mself\u001b[0m\u001b[1;33m.\u001b[0m\u001b[0m_get_grid_data\u001b[0m\u001b[1;33m(\u001b[0m\u001b[0mg\u001b[0m\u001b[1;33m,\u001b[0m\u001b[0mfield\u001b[0m\u001b[1;33m)\u001b[0m\u001b[1;33m\u001b[0m\u001b[0m\n\u001b[0m\u001b[0;32m    639\u001b[0m                         \u001b[1;32mif\u001b[0m \u001b[0mfield\u001b[0m \u001b[1;32min\u001b[0m \u001b[0mself\u001b[0m\u001b[1;33m.\u001b[0m\u001b[0mfield_list\u001b[0m \u001b[1;32mand\u001b[0m \u001b[0mfm\u001b[0m\u001b[1;33m[\u001b[0m\u001b[0mfield\u001b[0m\u001b[1;33m]\u001b[0m\u001b[1;33m[\u001b[0m\u001b[1;34m'nvar'\u001b[0m\u001b[1;33m]\u001b[0m\u001b[1;33m==\u001b[0m\u001b[1;36m3\u001b[0m\u001b[1;33m:\u001b[0m\u001b[1;33m\u001b[0m\u001b[0m\n\u001b[0;32m    640\u001b[0m                                 \u001b[0mdata\u001b[0m\u001b[1;33m[\u001b[0m\u001b[0mgis\u001b[0m\u001b[1;33m[\u001b[0m\u001b[1;36m2\u001b[0m\u001b[1;33m]\u001b[0m\u001b[1;33m:\u001b[0m\u001b[0mgie\u001b[0m\u001b[1;33m[\u001b[0m\u001b[1;36m2\u001b[0m\u001b[1;33m]\u001b[0m\u001b[1;33m,\u001b[0m\u001b[0mgis\u001b[0m\u001b[1;33m[\u001b[0m\u001b[1;36m1\u001b[0m\u001b[1;33m]\u001b[0m\u001b[1;33m:\u001b[0m\u001b[0mgie\u001b[0m\u001b[1;33m[\u001b[0m\u001b[1;36m1\u001b[0m\u001b[1;33m]\u001b[0m\u001b[1;33m,\u001b[0m\u001b[0mgis\u001b[0m\u001b[1;33m[\u001b[0m\u001b[1;36m0\u001b[0m\u001b[1;33m]\u001b[0m\u001b[1;33m:\u001b[0m\u001b[0mgie\u001b[0m\u001b[1;33m[\u001b[0m\u001b[1;36m0\u001b[0m\u001b[1;33m]\u001b[0m\u001b[1;33m,\u001b[0m\u001b[1;33m:\u001b[0m\u001b[1;33m]\u001b[0m\u001b[1;33m=\u001b[0m\u001b[0mgd\u001b[0m\u001b[1;33m\u001b[0m\u001b[0m\n",
      "\u001b[1;32mC:\\Users\\woorak choi\\Desktop\\rps-tigress\\notebook\\pyathena\\vtk_reader.pyc\u001b[0m in \u001b[0;36m_get_grid_data\u001b[1;34m(self, grid, field)\u001b[0m\n\u001b[0;32m    404\u001b[0m                         \u001b[1;32mreturn\u001b[0m \u001b[0mgd\u001b[0m\u001b[1;33m[\u001b[0m\u001b[0mfield\u001b[0m\u001b[1;33m]\u001b[0m\u001b[1;33m\u001b[0m\u001b[0m\n\u001b[0;32m    405\u001b[0m                 \u001b[1;32melif\u001b[0m \u001b[0mfield\u001b[0m \u001b[1;32min\u001b[0m \u001b[0mself\u001b[0m\u001b[1;33m.\u001b[0m\u001b[0mfield_list\u001b[0m\u001b[1;33m:\u001b[0m\u001b[1;33m\u001b[0m\u001b[0m\n\u001b[1;32m--> 406\u001b[1;33m                         \u001b[0mself\u001b[0m\u001b[1;33m.\u001b[0m\u001b[0m_read_grid_data\u001b[0m\u001b[1;33m(\u001b[0m\u001b[0mgrid\u001b[0m\u001b[1;33m,\u001b[0m\u001b[0mfield\u001b[0m\u001b[1;33m)\u001b[0m\u001b[1;33m\u001b[0m\u001b[0m\n\u001b[0m\u001b[0;32m    407\u001b[0m                         \u001b[1;32mreturn\u001b[0m \u001b[0mgd\u001b[0m\u001b[1;33m[\u001b[0m\u001b[0mfield\u001b[0m\u001b[1;33m]\u001b[0m\u001b[1;33m\u001b[0m\u001b[0m\n\u001b[0;32m    408\u001b[0m                 \u001b[1;32melif\u001b[0m \u001b[0mfield\u001b[0m \u001b[1;32min\u001b[0m \u001b[0mself\u001b[0m\u001b[1;33m.\u001b[0m\u001b[0mderived_field_list\u001b[0m\u001b[1;33m:\u001b[0m\u001b[1;33m\u001b[0m\u001b[0m\n",
      "\u001b[1;32mC:\\Users\\woorak choi\\Desktop\\rps-tigress\\notebook\\pyathena\\vtk_reader.pyc\u001b[0m in \u001b[0;36m_read_grid_data\u001b[1;34m(self, grid, field)\u001b[0m\n\u001b[0;32m    394\u001b[0m                 \u001b[1;32melse\u001b[0m\u001b[1;33m:\u001b[0m\u001b[1;33m\u001b[0m\u001b[0m\n\u001b[0;32m    395\u001b[0m                         \u001b[0mvar\u001b[0m\u001b[1;33m.\u001b[0m\u001b[0mshape\u001b[0m \u001b[1;33m=\u001b[0m \u001b[1;33m(\u001b[0m\u001b[0mnx3\u001b[0m\u001b[1;33m,\u001b[0m \u001b[0mnx2\u001b[0m\u001b[1;33m,\u001b[0m \u001b[0mnx1\u001b[0m\u001b[1;33m,\u001b[0m \u001b[0mnvar\u001b[0m\u001b[1;33m)\u001b[0m\u001b[1;33m\u001b[0m\u001b[0m\n\u001b[1;32m--> 396\u001b[1;33m                 \u001b[0mfile\u001b[0m\u001b[1;33m.\u001b[0m\u001b[0mclose\u001b[0m\u001b[1;33m(\u001b[0m\u001b[1;33m)\u001b[0m\u001b[1;33m\u001b[0m\u001b[0m\n\u001b[0m\u001b[0;32m    397\u001b[0m                 \u001b[0mgrid\u001b[0m\u001b[1;33m[\u001b[0m\u001b[1;34m'data'\u001b[0m\u001b[1;33m]\u001b[0m\u001b[1;33m[\u001b[0m\u001b[0mfield\u001b[0m\u001b[1;33m]\u001b[0m\u001b[1;33m=\u001b[0m\u001b[0mvar\u001b[0m\u001b[1;33m\u001b[0m\u001b[0m\n\u001b[0;32m    398\u001b[0m                 \u001b[1;32mif\u001b[0m \u001b[0mnvar\u001b[0m \u001b[1;33m==\u001b[0m \u001b[1;36m3\u001b[0m\u001b[1;33m:\u001b[0m \u001b[0mself\u001b[0m\u001b[1;33m.\u001b[0m\u001b[0m_set_vector_field\u001b[0m\u001b[1;33m(\u001b[0m\u001b[0mgrid\u001b[0m\u001b[1;33m,\u001b[0m\u001b[0mself\u001b[0m\u001b[1;33m.\u001b[0m\u001b[0munits\u001b[0m\u001b[1;33m[\u001b[0m\u001b[0mfield\u001b[0m\u001b[1;33m]\u001b[0m\u001b[1;33m,\u001b[0m\u001b[0mfield\u001b[0m\u001b[1;33m)\u001b[0m\u001b[1;33m\u001b[0m\u001b[0m\n",
      "\u001b[1;31mKeyboardInterrupt\u001b[0m: "
     ]
    }
   ],
   "source": [
    "\n",
    "for j in range(len(simid_t)) :\n",
    "    basedir = 'D:/yeongu/'\n",
    "    simid = simid_t[j]\n",
    "    Mom_up = []\n",
    "\n",
    "    for tidx in range(251, stop):  # time step 251, 331, 411, 501\n",
    "\n",
    "        vtkfname = '%s%s/id0/%s.%04d.vtk' % (basedir, simid, simid, tidx)\n",
    "        # read in domain information\n",
    "        ds = pa.AthenaDataSet(vtkfname)\n",
    "\n",
    "        # name of original data fields we stored from the simulation\n",
    "        print(ds.field_list)\n",
    "\n",
    "        # It also has predefined data fields can be calculated from the original data.\n",
    "        print(ds.derived_field_list)\n",
    "\n",
    "        # full domain information\n",
    "        print ds.domain\n",
    "\n",
    "        # information of grid #0\n",
    "        #print ds.grids[0]\n",
    "\n",
    "        # yet, we didn't read data.\n",
    "        # let's read each data field in a full domain\n",
    "\n",
    "        # this can be original data fields\n",
    "        comp = ds.read_all_data('specific_scalar0') # ism = 0 / icm = 1\n",
    "        gp = ds.read_all_data('gravitational_potential')\n",
    "        print unit['gravitational_potential']\n",
    "        #print gp\n",
    "        d = ds.read_all_data('density')*unit['density'].value # density\n",
    "        mass = d # density times volume per cell = mass per cell\n",
    "        pre = ds.read_all_data('pressure')*unit['pressure'].value/kb # thermal pressure\n",
    "        vel = ds.read_all_data('velocity')\n",
    "        vel_z = vel[:,:,:,2]\n",
    "        #v_z_p = vel_z[vel_z > 0]\n",
    "        #m_p = mass[vel_z> 0]\n",
    "        #v_z_n = vel_z[vel_z < 0]\n",
    "        #m_n = mass[vel_z < 0]"
   ]
  },
  {
   "cell_type": "code",
   "execution_count": null,
   "metadata": {
    "collapsed": true
   },
   "outputs": [],
   "source": []
  }
 ],
 "metadata": {
  "kernelspec": {
   "display_name": "Python 2",
   "language": "python",
   "name": "python2"
  },
  "language_info": {
   "codemirror_mode": {
    "name": "ipython",
    "version": 2
   },
   "file_extension": ".py",
   "mimetype": "text/x-python",
   "name": "python",
   "nbconvert_exporter": "python",
   "pygments_lexer": "ipython2",
   "version": "2.7.14"
  }
 },
 "nbformat": 4,
 "nbformat_minor": 2
}
