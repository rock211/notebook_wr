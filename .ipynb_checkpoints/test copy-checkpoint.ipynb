{
 "cells": [
  {
   "cell_type": "code",
   "execution_count": 2,
   "metadata": {},
   "outputs": [
    {
     "name": "stdout",
     "output_type": "stream",
     "text": [
      "{'number_density': <Quantity 1.0 1 / cm3>, 'temperature': <Quantity 1.0 K>, 'density': <Quantity 0.035268224298483024 solMass / pc3>, 'magnetic_field': <Quantity 0.5476852239548456 uG>, 'pressure': <Quantity 2.3869987106358004e-14 erg / cm3>, 'length': <Quantity 1.0 pc>, 'mass': <Quantity 0.03526822429848302 solMass>, 'time': <Quantity 0.9777922216731284 Myr>, 'velocity': <Quantity 1.0 km / s>, 'muH': <Quantity 2.3869987106358e-24 g>, 'gravitational_potential': <Quantity 1.0 km2 / s2>}\n",
      "no such file: D:/yeongu/RPS_8pc_ICM1/id0/RPS_8pc_ICM1.0500.vtk\n"
     ]
    },
    {
     "ename": "IndexError",
     "evalue": "list index out of range",
     "output_type": "error",
     "traceback": [
      "\u001b[1;31m---------------------------------------------------------------------------\u001b[0m",
      "\u001b[1;31mIndexError\u001b[0m                                Traceback (most recent call last)",
      "\u001b[1;32m<ipython-input-2-d7502de6985c>\u001b[0m in \u001b[0;36m<module>\u001b[1;34m()\u001b[0m\n\u001b[0;32m     58\u001b[0m         \u001b[0mvtkfname\u001b[0m \u001b[1;33m=\u001b[0m \u001b[1;34m'%s%s/id0/%s.%04d.vtk'\u001b[0m \u001b[1;33m%\u001b[0m \u001b[1;33m(\u001b[0m\u001b[0mbasedir\u001b[0m\u001b[1;33m,\u001b[0m \u001b[0msimid\u001b[0m\u001b[1;33m,\u001b[0m \u001b[0msimid\u001b[0m\u001b[1;33m,\u001b[0m \u001b[0mtidx\u001b[0m\u001b[1;33m)\u001b[0m\u001b[1;33m\u001b[0m\u001b[0m\n\u001b[0;32m     59\u001b[0m         \u001b[1;31m# read in domain information\u001b[0m\u001b[1;33m\u001b[0m\u001b[1;33m\u001b[0m\u001b[0m\n\u001b[1;32m---> 60\u001b[1;33m         \u001b[0mds\u001b[0m \u001b[1;33m=\u001b[0m \u001b[0mpa\u001b[0m\u001b[1;33m.\u001b[0m\u001b[0mAthenaDataSet\u001b[0m\u001b[1;33m(\u001b[0m\u001b[0mvtkfname\u001b[0m\u001b[1;33m)\u001b[0m\u001b[1;33m\u001b[0m\u001b[0m\n\u001b[0m\u001b[0;32m     61\u001b[0m \u001b[1;33m\u001b[0m\u001b[0m\n\u001b[0;32m     62\u001b[0m         \u001b[1;31m# name of original data fields we stored from the simulation\u001b[0m\u001b[1;33m\u001b[0m\u001b[1;33m\u001b[0m\u001b[0m\n",
      "\u001b[1;32mC:\\Users\\woorak choi\\Desktop\\rps-tigress\\notebook\\pyathena\\vtk_reader.pyc\u001b[0m in \u001b[0;36m__init__\u001b[1;34m(self, filename, ds, setgrid, serial)\u001b[0m\n\u001b[0;32m    103\u001b[0m         \u001b[1;32mif\u001b[0m \u001b[0msetgrid\u001b[0m\u001b[1;33m:\u001b[0m\u001b[1;33m\u001b[0m\u001b[0m\n\u001b[0;32m    104\u001b[0m             \u001b[1;32mif\u001b[0m \u001b[0mds\u001b[0m\u001b[1;33m==\u001b[0m\u001b[0mNone\u001b[0m\u001b[1;33m:\u001b[0m\u001b[1;33m\u001b[0m\u001b[0m\n\u001b[1;32m--> 105\u001b[1;33m                 \u001b[0mself\u001b[0m\u001b[1;33m.\u001b[0m\u001b[0mgrids\u001b[0m\u001b[1;33m=\u001b[0m\u001b[0mself\u001b[0m\u001b[1;33m.\u001b[0m\u001b[0m_setup_grid\u001b[0m\u001b[1;33m(\u001b[0m\u001b[1;33m)\u001b[0m\u001b[1;33m\u001b[0m\u001b[0m\n\u001b[0m\u001b[0;32m    106\u001b[0m             \u001b[1;32melse\u001b[0m\u001b[1;33m:\u001b[0m\u001b[1;33m\u001b[0m\u001b[0m\n\u001b[0;32m    107\u001b[0m                 \u001b[1;32mif\u001b[0m \u001b[0mds\u001b[0m\u001b[1;33m.\u001b[0m\u001b[0mgrids\u001b[0m\u001b[1;33m[\u001b[0m\u001b[1;36m0\u001b[0m\u001b[1;33m]\u001b[0m\u001b[1;33m[\u001b[0m\u001b[1;34m'filename'\u001b[0m\u001b[1;33m]\u001b[0m \u001b[1;33m!=\u001b[0m \u001b[0mself\u001b[0m\u001b[1;33m.\u001b[0m\u001b[0mflist\u001b[0m\u001b[1;33m[\u001b[0m\u001b[1;36m0\u001b[0m\u001b[1;33m]\u001b[0m\u001b[1;33m:\u001b[0m\u001b[1;33m\u001b[0m\u001b[0m\n",
      "\u001b[1;32mC:\\Users\\woorak choi\\Desktop\\rps-tigress\\notebook\\pyathena\\vtk_reader.pyc\u001b[0m in \u001b[0;36m_setup_grid\u001b[1;34m(self)\u001b[0m\n\u001b[0;32m    167\u001b[0m         \u001b[0mgrids\u001b[0m\u001b[1;33m=\u001b[0m\u001b[1;33m[\u001b[0m\u001b[1;33m]\u001b[0m\u001b[1;33m\u001b[0m\u001b[0m\n\u001b[0;32m    168\u001b[0m         \u001b[1;32mfor\u001b[0m \u001b[0mnproc\u001b[0m \u001b[1;32min\u001b[0m \u001b[0mrange\u001b[0m\u001b[1;33m(\u001b[0m\u001b[0mself\u001b[0m\u001b[1;33m.\u001b[0m\u001b[0mngrids\u001b[0m\u001b[1;33m)\u001b[0m\u001b[1;33m:\u001b[0m\u001b[1;33m\u001b[0m\u001b[0m\n\u001b[1;32m--> 169\u001b[1;33m             \u001b[0mfile\u001b[0m \u001b[1;33m=\u001b[0m \u001b[0mopen\u001b[0m\u001b[1;33m(\u001b[0m\u001b[0mself\u001b[0m\u001b[1;33m.\u001b[0m\u001b[0mflist\u001b[0m\u001b[1;33m[\u001b[0m\u001b[0mnproc\u001b[0m\u001b[1;33m]\u001b[0m\u001b[1;33m,\u001b[0m\u001b[1;34m'rb'\u001b[0m\u001b[1;33m)\u001b[0m\u001b[1;33m\u001b[0m\u001b[0m\n\u001b[0m\u001b[0;32m    170\u001b[0m             \u001b[0mgrid\u001b[0m \u001b[1;33m=\u001b[0m \u001b[1;33m{\u001b[0m\u001b[1;33m}\u001b[0m\u001b[1;33m\u001b[0m\u001b[0m\n\u001b[0;32m    171\u001b[0m             \u001b[0mgrid\u001b[0m\u001b[1;33m[\u001b[0m\u001b[1;34m'filename'\u001b[0m\u001b[1;33m]\u001b[0m\u001b[1;33m=\u001b[0m\u001b[0mself\u001b[0m\u001b[1;33m.\u001b[0m\u001b[0mflist\u001b[0m\u001b[1;33m[\u001b[0m\u001b[0mnproc\u001b[0m\u001b[1;33m]\u001b[0m\u001b[1;33m\u001b[0m\u001b[0m\n",
      "\u001b[1;31mIndexError\u001b[0m: list index out of range"
     ]
    }
   ],
   "source": [
    "import matplotlib.pyplot as plt\n",
    "import os\n",
    "from shutil import copyfile\n",
    "import numpy as np\n",
    "import pandas as pd\n",
    "import astropy.constants as c\n",
    "import astropy.units as u\n",
    "import sys\n",
    "from scipy.interpolate import spline\n",
    "import pyathena as pa\n",
    "from multiprocessing import Pool\n",
    "from matplotlib.ticker import MultipleLocator\n",
    "\n",
    "from mpl_toolkits import axes_grid1\n",
    "\n",
    "from matplotlib.colors import LogNorm\n",
    "from six.moves import cPickle as pickle\n",
    "\n",
    "# In[7]:\n",
    "import matplotlib as mpl\n",
    "\n",
    "unit = pa.set_units(muH=1.4271)\n",
    "print(unit)\n",
    "#print (unit['density'].cgs / 1.4271 / c.m_p.cgs, unit['velocity'], unit['length'])\n",
    "#print unit['density']\n",
    "kb = 1.3806504 * 1e-16 #boltzmann constant erg/K\n",
    "volpercell = 7168.*1024*1024/(128*128*896)\n",
    "vpc = volpercell\n",
    "\n",
    "\n",
    "start = 500\n",
    "stop = 502\n",
    "\n",
    "plt.figure(figsize=(12,5)) # original 5.5,5\n",
    "simid_t = ('RPS_8pc_ICM1','RPS_8pc_ICM2') #'R8_8pc_metal',\n",
    "#simid_t = ('MHD_8pc_new' ,'RPS_8pc_n1e-4_v1414','RPS_8pc_n2e-4_v1414')\n",
    "#simid_t = ('n1e-4_v1414','n2e-4_v1414')\n",
    "\n",
    "labell = (r'No ICM','ICM1','ICM2') # r'No ICM',\n",
    "labelll = ('Cold','Unstable','Warm','Ionized','Hot')\n",
    "C = ('k','forestgreen','tomato') #('darkkhaki','royalblue','firebrick')\n",
    "C2 = ('darkblue','deepskyblue','goldenrod','red','firebrick')\n",
    "C3 = ('darkred','salmon','red')\n",
    "S = (':','-','--')\n",
    "alpha = (0.8,1,1)\n",
    "\n",
    "# overplot Starformation rate of three different simulations\n",
    "\n",
    "for j in range(3) :\n",
    "    basedir = 'D:/yeongu/'\n",
    "    simid = simid_t[j]\n",
    "    Mom_up = []\n",
    "\n",
    "    Mass_tot = []\n",
    "    Mass_sub = []\n",
    "    for tidx in range(start, stop,5):  # time step 251, 331, 411, 501\n",
    "\n",
    "        vtkfname = '%s%s/id0/%s.%04d.vtk' % (basedir, simid, simid, tidx)\n",
    "        # read in domain information\n",
    "        ds = pa.AthenaDataSet(vtkfname)\n",
    "\n",
    "        # name of original data fields we stored from the simulation\n",
    "        #print(ds.field_list)\n",
    "\n",
    "        # It also has predefined data fields can be calculated from the original data.\n",
    "        #print(ds.derived_field_list)\n",
    "\n",
    "        # full domain information\n",
    "        #print ds.domain\n",
    "\n",
    "        # information of grid #0\n",
    "        #print ds.grids[0]\n",
    "\n",
    "        # yet, we didn't read data.\n",
    "        # let's read each data field in a full domain\n",
    "\n",
    "        # this can be original data fields\n",
    "        #scalar = ds.read_all_data('specific_scalar4') # ism = 0 / icm = 1\n",
    "        #gp = ds.read_all_data('gravitational_potential')\n",
    "        #print unit['gravitational_potential']\n",
    "        #print gp\n",
    "        d = ds.read_all_data('density')*unit['density'].value # density\n",
    "        total = np.sum(np.sum(np.sum(d*8*8*8)))\n",
    "        print total"
   ]
  },
  {
   "cell_type": "code",
   "execution_count": null,
   "metadata": {},
   "outputs": [],
   "source": []
  }
 ],
 "metadata": {
  "kernelspec": {
   "display_name": "Python 2",
   "language": "python",
   "name": "python2"
  },
  "language_info": {
   "codemirror_mode": {
    "name": "ipython",
    "version": 2
   },
   "file_extension": ".py",
   "mimetype": "text/x-python",
   "name": "python",
   "nbconvert_exporter": "python",
   "pygments_lexer": "ipython2",
   "version": "2.7.14"
  }
 },
 "nbformat": 4,
 "nbformat_minor": 2
}
