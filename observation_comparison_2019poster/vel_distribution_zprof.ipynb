{
 "cells": [
  {
   "cell_type": "code",
   "execution_count": 1,
   "metadata": {},
   "outputs": [],
   "source": [
    "import matplotlib.pyplot as plt\n",
    "import numpy as np\n",
    "import pyathena as pa\n",
    "import pandas as pd\n",
    "import xarray as xr\n",
    "import glob\n",
    "import os"
   ]
  },
  {
   "cell_type": "code",
   "execution_count": 9,
   "metadata": {
    "scrolled": false
   },
   "outputs": [
    {
     "name": "stdout",
     "output_type": "stream",
     "text": [
      "Reading a history file:G:/yeongu//RPS_8pc_noICM_newacc/hst/RPS_8pc_noICM_newacc.hst.p\n",
      "Reading a history file:G:/yeongu//RPS_8pc_ICM1_newacc/hst/RPS_8pc_ICM1_newacc.hst.p\n",
      "Reading a history file:G:/yeongu//RPS_8pc_ICM2_newacc/hst/RPS_8pc_ICM2_newacc.hst.p\n",
      "Reading a history file:G:/yeongu//RPS_8pc_ICM3_newacc/hst/RPS_8pc_ICM3_newacc.hst.p\n",
      "Reading a history file:G:/yeongu//RPS_4pc_ICM1_newacc/hst/RPS_4pc_ICM1_newacc.hst.p\n",
      "Reading a history file:G:/yeongu//RPS_4pc_ICM2_newacc/hst/RPS_4pc_ICM2_newacc.hst.p\n"
     ]
    },
    {
     "data": {
      "image/png": "[encoded data removed]",
      "text/plain": [
       "<matplotlib.figure.Figure at 0xbeb00b8>"
      ]
     },
     "metadata": {},
     "output_type": "display_data"
    }
   ],
   "source": [
    "import astropy.constants as c\n",
    "import astropy.units as u\n",
    "unit=pa.set_units(muH=1.4271)\n",
    "\n",
    "plt.rcParams['font.size']=16\n",
    "import os,glob\n",
    "labels=['noICM_new','ICM1_new','ICM2_new'] # ['no ICM','ICM00','ICM0']#,'ICM00','ICM0',,'ICM2','ICM3','ICM4'\n",
    "ids=['RPS_8pc_noICM_newacc','RPS_8pc_ICM1_newacc','RPS_8pc_ICM2_newacc','RPS_8pc_ICM3_newacc','RPS_4pc_ICM1_newacc','RPS_4pc_ICM2_newacc'] # RPS_8pc_ICM00','RPS_8pc_ICM0',,'RPS_8pc_ICM2','RPS_8pc_ICM3','RPS_8pc_ICM4'\n",
    "#ids=['R8_8pc_metal','RPS_8pc_ICM0','RPS_8pc_ICM1','RPS_8pc_ICM2','RPS_8pc_ICM3']\n",
    "base='G:/yeongu/'\n",
    "#base='/media/woorak/data2/yeongu/' # for ubuntu\n",
    "#base='F:/yeongu/'\n",
    "#base2='D:/yeongu/'\n",
    "#C = ('darkkhaki','b','r','k','g','magenta','cyan') # \n",
    "C = ('salmon','r','deepskyblue','b','g')\n",
    "C2 = ('darkblue','deepskyblue','goldenrod','red','firebrick')\n",
    "CC = ('darkred','red','green','coral','goldenrod','blue')\n",
    "hh = [0.006,0.006,0.15]\n",
    "labell = ('No ICM', 'P3', 'P7','P14','P3h','P7h')  # r'No ICM',\n",
    "kb = 1.3806504 * 1e-16 #boltzmann constant erg/K / erg = g cm2/s2\n",
    "meter = 3.24078*1e-17 # pc\n",
    "kg = 5.02785*1e-31 # solar mass\n",
    "#fig =plt.figure(figsize=(7.5,12))\n",
    "k=1\n",
    "crit = 94\n",
    "#plt.figure(figsize=(6,4))\n",
    "plt.figure(figsize=(6,4))\n",
    "lss=['--','-','-','-','--','-','-']\n",
    "for j,problem_id in enumerate(ids):\n",
    "    \n",
    "    #rstfiles=glob.glob('%s%s/id0/%s.????.rst' % (base,problem_id,problem_id))\n",
    "    #rstfiles+=glob.glob('%s%s/rst/%s.????.rst' % (base,problem_id,problem_id))\n",
    "    parfile='{}/{}/{}.par'.format(base,problem_id,problem_id)\n",
    "    hstfile='{}/{}/hst/{}.hst'.format(base,problem_id,problem_id)\n",
    "    hst=pa.hst_reader(hstfile)\n",
    "    #print unit\n",
    "    Myr=unit['time'].to('Myr').value\n",
    "    #print unit['density']\n",
    "    hst.index=hst.time\n",
    "    hst=hst.loc[250:500,:]\n",
    "    hst.index=hst.time*Myr\n",
    "    \n",
    "    #sfr= hst.sfr10\n",
    "    \n",
    "    par=pa.get_params(parfile)\n",
    "    \n",
    "    Lx=par['x1max']-par['x1min']\n",
    "    Ly=par['x2max']-par['x2min']\n",
    "    Lz=par['x3max']-par['x3min']\n",
    "    \n",
    "    plist=['phase1','phase2','phase3']\n",
    "    datasets = xr.Dataset()\n",
    "    for phase in plist:\n",
    "        path='{}{}/zprof_merged/{}.{}.zprof.nc'.format(base,problem_id,problem_id,phase)\n",
    "        with xr.open_dataarray(path) as da: da.load()\n",
    "        #print da\n",
    "        datasets[phase]=da\n",
    "    zprof_ds=datasets\n",
    "    zprof_ds = zprof_ds.sel(taxis=slice(250,500))\n",
    "    #print zprof_ds\n",
    "    #cold = (zprof_ds['phase1']+zprof_ds['phase2']+zprof_ds['phase3']).loc['d']\n",
    "    Munit=(unit['density']*unit['velocity']*unit['time']).to('Msun/pc^2').value\n",
    "    #print zprof_ds['phase1'].loc['A'].data.cumsum(), zprof_ds['phase2'].loc['A']\n",
    "    zprof = zprof_ds.to_array().sum(dim='variable')\n",
    "    #print zprof\n",
    "    #print zprof\n",
    "    #print '------------------------'\n",
    "    #print zprof.loc['d']\n",
    "    #print zprof.loc['ge']\n",
    "    M3 = zprof.loc['M3']\n",
    "    d = zprof.loc['d']\n",
    "    #print M3.shape\n",
    "    if j==4 or j==5:\n",
    "        #z_mean=np.mean(M3[896::,:]/d[896::,:],axis=0)\n",
    "        vz_mean=np.sum(M3[896::,:],axis=0)/np.sum(d[896::,:],axis=0)\n",
    "    else:\n",
    "        #z_mean=np.mean(M3[448::,:]/d[448::,:],axis=0)\n",
    "        vz_mean=np.sum(M3[448::,:],axis=0)/np.sum(d[448::,:],axis=0)\n",
    "    \n",
    "    #d = zprof.loc['d'].data*unit['density']/(1024.*1024)*(6.767e-8)#*(8*8*8) # solar mass / pc3 to g / km3\n",
    "    t = (zprof.taxis-250)*Myr\n",
    "    if j==4 or j==5:\n",
    "        plt.plot(t,vz_mean,c='k',lw=3,label='%s' % labell[j],ls=lss[j])\n",
    "    if j==5:\n",
    "        plt.axvspan(50,150,fc='k',alpha=0.3)\n",
    "        plt.axhline(56.8,ls='--',label='C',c=CC[0])\n",
    "        plt.axhline(28.1,ls='--',label='D',c=CC[1])\n",
    "        plt.axhline(12.9,ls='--',label='E1',c=CC[2])\n",
    "        plt.axhline(80.7,ls='--',label='E2',c=CC[3])\n",
    "        plt.axhline(33.6,ls='--',label='E',c=CC[4])\n",
    "        plt.axhline(28.7,ls='--',label='G',c=CC[5])\n",
    "plt.xlabel('Time [Myr]')\n",
    "plt.ylabel(r'$\\overline{V}$$_z$' + r'[km/s]')\n",
    "plt.xlim(0,250)\n",
    "plt.ylim(-20,100)\n",
    "plt.legend(loc='upper right',fontsize=10)\n",
    "plt.tight_layout()\n",
    "plt.savefig('vel_z2_%s_combine.png' % labell[j],dpi=400)\n",
    "plt.show()\n",
    "    \n",
    "    #z = zprof.zaxis/1000.\n",
    "    #print M3[448::,0]\n",
    "    #plt.plot(M3[448::,0]/d[448::,0],label='250 Myr')\n",
    "    #plt.plot(M3[448::,50]/d[448::,50],label='300 Myr')\n",
    "    #plt.plot(M3[448::,100]/d[448::,100],label='350 Myr')\n",
    "    #plt.plot(M3[448::,150]/d[448::,150],label='400 Myr')\n",
    "    #plt.plot(M3[448::,200]/d[448::,200],label='450 Myr')\n",
    "    #plt.legend(loc=0,fontsize=10)\n",
    "    #plt.show()\n",
    "#plt.tight_layout()\n",
    "#plt.savefig('D:/yeongu/plots/paperplot/new/Press_range_w_mag_all.png')\n",
    "#plt.show()\n",
    "    \n"
   ]
  },
  {
   "cell_type": "code",
   "execution_count": 62,
   "metadata": {},
   "outputs": [
    {
     "name": "stdout",
     "output_type": "stream",
     "text": [
      "2.2218650793650796\n"
     ]
    }
   ],
   "source": [
    "a = [1.,2.,3.,4.,5.,6.,7.,8.,9.,10.]\n",
    "b = [10,9,8,7,6,5,4,3,2,1]\n",
    "print np.mean(np.divide(a,b))"
   ]
  },
  {
   "cell_type": "code",
   "execution_count": null,
   "metadata": {},
   "outputs": [],
   "source": []
  }
 ],
 "metadata": {
  "kernelspec": {
   "display_name": "Python 2",
   "language": "python",
   "name": "python2"
  },
  "language_info": {
   "codemirror_mode": {
    "name": "ipython",
    "version": 2
   },
   "file_extension": ".py",
   "mimetype": "text/x-python",
   "name": "python",
   "nbconvert_exporter": "python",
   "pygments_lexer": "ipython2",
   "version": "2.7.14"
  }
 },
 "nbformat": 4,
 "nbformat_minor": 2
}
